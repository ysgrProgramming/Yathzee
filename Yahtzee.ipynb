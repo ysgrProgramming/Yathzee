{
  "nbformat": 4,
  "nbformat_minor": 0,
  "metadata": {
    "colab": {
      "name": "Yahtzee.ipynb",
      "provenance": [],
      "collapsed_sections": [
        "PTBj6eHG3dAr"
      ],
      "authorship_tag": "ABX9TyOkE3XMzwMN5D9sK4J7FCwo",
      "include_colab_link": true
    },
    "kernelspec": {
      "name": "python3",
      "display_name": "Python 3"
    },
    "language_info": {
      "name": "python"
    }
  },
  "cells": [
    {
      "cell_type": "markdown",
      "metadata": {
        "id": "view-in-github",
        "colab_type": "text"
      },
      "source": [
        "<a href=\"https://colab.research.google.com/github/ysgrProgramming/Yathzee/blob/main/Yahtzee.ipynb\" target=\"_parent\"><img src=\"https://colab.research.google.com/assets/colab-badge.svg\" alt=\"Open In Colab\"/></a>"
      ]
    },
    {
      "cell_type": "markdown",
      "source": [
        "# ボードゲーム「ヨット」の解析\n",
        "\n",
        "海外ではYahtzeeと呼ばれる、5つのサイコロを使ったゲームの最大期待値手順解析を行いました。\n",
        "\n",
        "解析の手順と結果の考察、実際にプレイした結果についてまとめました。\n",
        "\n",
        "ここではNintendo Switch用ソフト「世界のアソビ大全」に収録されているヨットのルールを採用しています。"
      ],
      "metadata": {
        "id": "qwZGzLRB3vpb"
      }
    },
    {
      "cell_type": "markdown",
      "source": [
        "# 解析道具の構築"
      ],
      "metadata": {
        "id": "jW0WogpA3s6G"
      }
    },
    {
      "cell_type": "markdown",
      "source": [
        "## ライブラリのインポート\n",
        "\n",
        "使いそうなライブラリを先にインポートしておく。"
      ],
      "metadata": {
        "id": "PTBj6eHG3dAr"
      }
    },
    {
      "cell_type": "code",
      "execution_count": 1,
      "metadata": {
        "id": "cHVH6MFUJ6Is"
      },
      "outputs": [],
      "source": [
        "import numpy as np\n",
        "import matplotlib.pyplot as plt"
      ]
    },
    {
      "cell_type": "markdown",
      "source": [
        "## 役の定義\n",
        "\n",
        "ルールが地域差等によって一定でないので、実際の役をより一般化して定義している。\n",
        "\n",
        "handは昇順または降順でソートされていることが期待される。\n",
        "\n",
        "`rank_list`として、「世界のアソビ大全」収録のヨットのルールに基づいた役のリストを作成した。"
      ],
      "metadata": {
        "id": "gwd-IWWbjDvO"
      }
    },
    {
      "cell_type": "code",
      "source": [
        "#一般化した役関数の定義\n",
        "def rank_num(hand, num):\n",
        "    return hand.count(num)*num\n",
        "\n",
        "def rank_num_of_kind(hand, num, point=None):\n",
        "    count, buf = 0, -1\n",
        "    for i in hand:\n",
        "        if buf == i:\n",
        "            count += 1\n",
        "            if count == num: break\n",
        "        else:\n",
        "            count = 1\n",
        "            buf = i\n",
        "    else: return 0\n",
        "\n",
        "    if point: return point\n",
        "    else: return sum(hand)\n",
        "\n",
        "def rank_full_house(hand, point=None):\n",
        "    if hand[0] == hand[1] and hand[3] == hand[4] and hand[0] != hand[4]:\n",
        "        if hand[2] == hand[0] or hand[2] == hand[4]:\n",
        "            if point: return point\n",
        "            else: return sum(hand)\n",
        "    return 0\n",
        "\n",
        "def rank_straight(hand, num, point=None):\n",
        "    count, buf = 0, -1\n",
        "    for i in hand:\n",
        "        if i == buf+1:\n",
        "            count += 1\n",
        "            if count == num: break\n",
        "        elif i == buf: continue\n",
        "        else: count = 1\n",
        "        buf = i\n",
        "    else: return 0\n",
        "\n",
        "    if point: return point\n",
        "    else: return sum(hand)\n",
        "\n",
        "def rank_chance(hand):\n",
        "    return sum(hand)\n",
        "\n",
        "# 役リストの作成\n",
        "rank_list = []\n",
        "rank_list.append(lambda hand: rank_num(hand, 1))\n",
        "rank_list.append(lambda hand: rank_num(hand, 2))\n",
        "rank_list.append(lambda hand: rank_num(hand, 3))\n",
        "rank_list.append(lambda hand: rank_num(hand, 4))\n",
        "rank_list.append(lambda hand: rank_num(hand, 5))\n",
        "rank_list.append(lambda hand: rank_num(hand, 6))\n",
        "rank_list.append(rank_chance)\n",
        "rank_list.append(lambda hand: rank_num_of_kind(hand, 4))\n",
        "rank_list.append(rank_full_house)\n",
        "rank_list.append(lambda hand: rank_straight(hand, 4, 15))\n",
        "rank_list.append(lambda hand: rank_straight(hand, 5, 30))\n",
        "rank_list.append(lambda hand: rank_num_of_kind(hand, 5, 50))\n",
        "\n",
        "rankname_list = [\"エース(1)\", \"デュース(2)\", \"トレイ(3)\", \"フォー(4)\", \"ファイブ(5)\", \"シックス(6)\", \"チョイス\", \"フォーダイス\", \"フルハウス\", \"S.ストレート\", \"B.ストレート\", \"ヨット\"]\n",
        "\n",
        "sample_pat = (3, 4, 5, 6, 6)\n",
        "print(\"出目:\", sample_pat)\n",
        "for func, name in zip(rank_list, rankname_list):\n",
        "    print(\"役名:{0}, 点数:{1}\".format(name, func(sample_pat)))"
      ],
      "metadata": {
        "id": "b_0Ar0QILdkQ",
        "colab": {
          "base_uri": "https://localhost:8080/"
        },
        "outputId": "a936ad93-d379-42a6-a39e-5cac07de16bf"
      },
      "execution_count": 60,
      "outputs": [
        {
          "output_type": "stream",
          "name": "stdout",
          "text": [
            "出目: (3, 4, 5, 6, 6)\n",
            "役名:エース(1), 点数:0\n",
            "役名:デュース(2), 点数:0\n",
            "役名:トレイ(3), 点数:3\n",
            "役名:フォー(4), 点数:4\n",
            "役名:ファイブ(5), 点数:5\n",
            "役名:シックス(6), 点数:12\n",
            "役名:チョイス, 点数:24\n",
            "役名:フォーダイス, 点数:0\n",
            "役名:フルハウス, 点数:0\n",
            "役名:S.ストレート, 点数:15\n",
            "役名:B.ストレート, 点数:0\n",
            "役名:ヨット, 点数:0\n"
          ]
        }
      ]
    },
    {
      "cell_type": "markdown",
      "source": [
        "## パターンリストの作成\n",
        "n個のサイコロの出目のパターンとその整数確率比を格納するリストを作成する。$6^5$通りを全探索するよりも計算量の改善が見込める。"
      ],
      "metadata": {
        "id": "HStaxTU0qWDd"
      }
    },
    {
      "cell_type": "code",
      "source": [
        "from itertools import product\n",
        "\n",
        "rank_len = len(rank_list)\n",
        "bonus, bonus_point = 35, 63\n",
        "data_list = np.array([[-1]*(bonus_point+1) for _ in range(1<<rank_len)], dtype=float)\n",
        "data_list[-1,:] = 0\n",
        "\n",
        "rate_list = [dict() for _ in range(5)]\n",
        "for i in range(5):\n",
        "    rate = 6**(4-i)\n",
        "    for a in product(range(1, 7), repeat=i+1):\n",
        "        key = tuple(sorted(a))\n",
        "        if key in rate_list[i]:\n",
        "            rate_list[i][key] += rate\n",
        "        else: \n",
        "            rate_list[i][key] = rate\n",
        "\n",
        "pat_dict = {k: i for i, k in enumerate(rate_list[-1].keys())}\n",
        "pat_list = np.array([k for k in rate_list[-1].keys()])\n",
        "pat_val_list = np.array([v for v in rate_list[-1].values()])"
      ],
      "metadata": {
        "id": "El3KHEvpGM_8"
      },
      "execution_count": 63,
      "outputs": []
    },
    {
      "cell_type": "markdown",
      "source": [
        "## パターンの遷移についてのリストを作成する\n",
        "\n",
        "パターンと役の組み合わせによる点数のリスト、`rank_point_list`を作成した。\n",
        "\n",
        "パターンとキープの組み合わせによる遷移先のパターンとその整数確率のリスト、`trans_list`を作成した。整数確率とは、確率に$6^5$をかけて表す。"
      ],
      "metadata": {
        "id": "onaFI3hz-UHc"
      }
    },
    {
      "cell_type": "code",
      "source": [
        "pat_len = len(rate_list[-1])\n",
        "\n",
        "#パターンと役の組み合わせによる点数のリスト\n",
        "rank_point_list = np.zeros((pat_len, rank_len), dtype=int)\n",
        "for i, k in enumerate(rate_list[-1].keys()):\n",
        "    for j in range(rank_len):\n",
        "        rank_point_list[i][j] = rank_list[j](k)\n",
        "\n",
        "#choiceを含むパターンを全て生成\n",
        "def list_pat(choice):\n",
        "    n = len(choice)\n",
        "    for key, value in rate_list[4-n].items():\n",
        "        key = list(key)\n",
        "        key.extend(choice)\n",
        "        pat = tuple(sorted(key))\n",
        "        yield pat, value\n",
        "\n",
        "#パターンとキープの組み合わせによる遷移先のパターンとその整数確率のリスト\n",
        "trans_list = [[] for _ in range(pat_len)]\n",
        "weight_list = [[] for _ in range(pat_len)]\n",
        "keep_list = [[] for _ in range(pat_len)]\n",
        "for i, k in enumerate(rate_list[-1].keys()):\n",
        "    choice_set = set()\n",
        "    for j in range(1, 1<<5):\n",
        "        trans = []\n",
        "        weight = []\n",
        "        choice = []\n",
        "        for l in range(5):\n",
        "            if 1<<l & j: continue\n",
        "            choice.append(k[l])\n",
        "        choice = tuple(choice)\n",
        "        if choice in choice_set: continue\n",
        "        choice_set.add(choice)\n",
        "        for pat, value in list_pat(choice):\n",
        "            trans.append(pat_dict[pat])\n",
        "            weight.append(value)\n",
        "        trans_list[i].append(np.array(trans, dtype=int))\n",
        "        weight_list[i].append(np.array(weight, dtype=int))\n",
        "        keep_list[i].append(choice)"
      ],
      "metadata": {
        "id": "erNTanJ31DS1"
      },
      "execution_count": 21,
      "outputs": []
    },
    {
      "cell_type": "code",
      "source": [
        "#出目確定時の期待値\n",
        "def init_val_list(bit_set, bonus_index):\n",
        "    val_list = np.zeros(pat_len, dtype=float)\n",
        "    available_list = []\n",
        "    for i in range(rank_len):\n",
        "        if bit_set & 1<<i == 0: available_list.append(i)\n",
        "\n",
        "    for i in range(pat_len):\n",
        "        for j in available_list:\n",
        "            bonus_add = 0\n",
        "            if j < 6: bonus_add = rank_point_list[i][j]\n",
        "            if bonus_index+bonus_add >= bonus_point and bonus_index < bonus_point:\n",
        "                val = rank_point_list[i,j] + bonus + data_list[bit_set+(1<<j)][-1]\n",
        "            else: \n",
        "                val = rank_point_list[i,j] + data_list[bit_set+(1<<j)][min(bonus_point, bonus_index+bonus_add)]\n",
        "            val_list[i] = max(val_list[i], val)\n",
        "    \n",
        "    return val_list\n",
        "\n",
        "#振数残存時の期待値\n",
        "def update_val_list(val_list):\n",
        "    new_val_list = np.copy(val_list)\n",
        "    for i in range(pat_len):\n",
        "        for trans, weight in zip(trans_list[i], weight_list[i]):\n",
        "            val = sum(val_list[trans]*weight) / 6**5\n",
        "            new_val_list[i] = max(val, new_val_list[i])\n",
        "    return new_val_list"
      ],
      "metadata": {
        "id": "Uu5yuOUSPaty"
      },
      "execution_count": 25,
      "outputs": []
    },
    {
      "cell_type": "code",
      "source": [
        "def find_earnest_keep(val_list, hand):\n",
        "    index = pat_dict[hand]\n",
        "    route_list = [(val_list[index], hand)]\n",
        "    for trans, weight, keep in zip(trans_list[index], weight_list[index], keep_list[index]):\n",
        "        val = sum(val_list[trans]*weight) / 6**5\n",
        "        route_list.append((val, keep))\n",
        "    route_list.sort(reverse=True)\n",
        "    return route_list\n",
        "\n",
        "def find_earnest_rank(current_rank, hand, bonus_index):\n",
        "    index = pat_dict[hand]\n",
        "    route_list = []\n",
        "    for i in range(rank_len):\n",
        "        if current_rank & 1<<i: continue\n",
        "        bonus_add = 0\n",
        "        if i < 6: bonus_add = rank_point_list[index, i]\n",
        "        if bonus_index+bonus_add >= bonus_point and bonus_index < bonus_point:\n",
        "            val = rank_point_list[index, i] + bonus + data_list[current_rank+(1<<i)][-1]\n",
        "        else: \n",
        "            val = rank_point_list[index, i] + data_list[current_rank+(1<<i)][min(bonus_point, bonus_index+bonus_add)]\n",
        "        route_list.append((val, i, bonus_add))\n",
        "    route_list.sort(reverse=True)\n",
        "    return route_list"
      ],
      "metadata": {
        "id": "RsBjntG1a4_W"
      },
      "execution_count": 36,
      "outputs": []
    },
    {
      "cell_type": "markdown",
      "source": [
        "# 解析\n",
        "\n",
        "解析道具を構築した後、解析を行った。解析には約5時間を要するので、Google Colabのランタイムの切断による作業データの消失を防ぐため、$2^8$ステップ毎に`data_list`を保存することにした。作業の再開には保存したデータを`np.load`で読み込み、ファイルに書いてある数字を`pause`に設定することでその場所から再開できる。"
      ],
      "metadata": {
        "id": "Id1CGDb4XIMi"
      }
    },
    {
      "cell_type": "code",
      "source": [
        "data_list = np.load(\"2304.npy\")\n",
        "pause = 2304\n",
        "for i in range(pause, -1, -1):\n",
        "    bonus_limit = 0\n",
        "    for j in range(6):\n",
        "        if i & 1<<j == 0: bonus_limit += (j+1)*5\n",
        "    \n",
        "    for j in range(max(0, bonus_point-bonus_limit), bonus_point+1):\n",
        "        val_list = init_val_list(i, j)\n",
        "        for k in range(2):\n",
        "            val_list = update_val_list(val_list)\n",
        "\n",
        "        total = sum(val_list*pat_val_list) / 6**5\n",
        "        data_list[i][j] = total\n",
        "\n",
        "    for j in range(bonus_point-bonus_limit):\n",
        "        data_list[i][j] = data_list[i][-1]\n",
        "\n",
        "    print(bin(i)[2:])\n",
        "    print(data_list[i])\n",
        "    print()\n",
        "    if i % (1<<8) == 0: np.save(\"{0}\".format(i), data_list)"
      ],
      "metadata": {
        "id": "RT8f-DQl643P"
      },
      "execution_count": null,
      "outputs": []
    },
    {
      "cell_type": "markdown",
      "source": [
        "# プレイ\n",
        "\n",
        "解析データを使って、実際のゲームプレイ例を生成するサンプルを作成した。解析後のデータはGithub上に保存してある。"
      ],
      "metadata": {
        "id": "Kgcg_W1XW8tL"
      }
    },
    {
      "cell_type": "code",
      "source": [
        "data_list = np.load(\"yahtzee_data_list.npy\")"
      ],
      "metadata": {
        "id": "zVgSHqKKbFuf"
      },
      "execution_count": 34,
      "outputs": []
    },
    {
      "cell_type": "code",
      "source": [
        "current_rank = 0\n",
        "total = 0\n",
        "bonus_index = 0\n",
        "\n",
        "def make_hand(keep):\n",
        "    hand = np.random.randint(1, 7, 5)\n",
        "    for k in range(len(keep)):\n",
        "        hand[k] = keep[k]\n",
        "    hand = tuple(sorted(hand))\n",
        "    print(hand)\n",
        "    return hand\n",
        "\n",
        "for i in range(rank_len):\n",
        "    #一手目\n",
        "    #hand = tuple(sorted(map(int, input().split())))\n",
        "    hand = make_hand([])\n",
        "    val_list = init_val_list(current_rank, bonus_index)\n",
        "    val_list = update_val_list(val_list)\n",
        "    route_list = find_earnest_keep(val_list, hand)\n",
        "    for i in range(min(3, len(route_list))):\n",
        "        print(\"第{0}候補 期待値:{1}, 選択:{2}\".format(i+1, route_list[i][0]+total, route_list[i][1]))\n",
        "\n",
        "    #二手目\n",
        "    #hand = tuple(sorted(map(int, input().split())))\n",
        "    hand = make_hand(route_list[0][1])\n",
        "    index = pat_dict[hand]\n",
        "    val_list = init_val_list(current_rank, bonus_index)\n",
        "    route_list = find_earnest_keep(val_list, hand)\n",
        "    for i in range(min(3, len(route_list))):\n",
        "        print(\"第{0}候補 期待値:{1}, 選択:{2}\".format(i+1, route_list[i][0]+total, route_list[i][1]))\n",
        "\n",
        "    #三手目\n",
        "    #hand = tuple(sorted(map(int, input().split())))\n",
        "    hand = make_hand(route_list[0][1])\n",
        "    index = pat_dict[hand]\n",
        "    route_list = find_earnest_rank(current_rank, hand, bonus_index)\n",
        "    for i in range(min(3, len(route_list))):\n",
        "        print(\"第{0}候補 期待値:{1}, 選択:{2}\".format(i+1, route_list[i][0]+total, rankname_list[route_list[i][1]]))\n",
        "\n",
        "    choiced_rank, bonus_add = route_list[0][1:]\n",
        "    current_rank += 1<<choiced_rank\n",
        "    total += rank_point_list[index, choiced_rank]\n",
        "    if bonus_index+bonus_add >= bonus_point and bonus_index < bonus_point: total += bonus\n",
        "    bonus_index = min(bonus_point, bonus_index+bonus_add)\n",
        "\n",
        "    print(\"現在の得点:{0}, ボーナスまで:{1}, 役状況:{2}\".format(total, bonus_point-bonus_index, bin(current_rank)[2:].zfill(rank_len)))\n",
        "    print()"
      ],
      "metadata": {
        "colab": {
          "base_uri": "https://localhost:8080/"
        },
        "id": "OI32S2rPU1iW",
        "outputId": "2a279ac6-b404-4839-cc84-f7dbb8c3c01f"
      },
      "execution_count": 62,
      "outputs": [
        {
          "output_type": "stream",
          "name": "stdout",
          "text": [
            "(2, 2, 4, 5, 6)\n",
            "第1候補 期待値:188.29764338823892, 選択:(2, 2)\n",
            "第2候補 期待値:188.20008761052884, 選択:(5,)\n",
            "第3候補 期待値:188.17446889387992, 選択:(6,)\n",
            "(2, 2, 2, 3, 5)\n",
            "第1候補 期待値:190.05735701545254, 選択:(2, 2, 2)\n",
            "第2候補 期待値:188.34852337442766, 選択:(2, 2, 2, 5)\n",
            "第3候補 期待値:188.23281800281575, 選択:(2, 2, 2, 3)\n",
            "(1, 2, 2, 2, 6)\n",
            "第1候補 期待値:187.22528381389165, 選択:デュース(2)\n",
            "第2候補 期待値:179.16698311647707, 選択:エース(1)\n",
            "第3候補 期待値:175.97752671114287, 選択:フォーダイス\n",
            "現在の得点:6, ボーナスまで:57, 役状況:000000000010\n",
            "\n",
            "(2, 5, 6, 6, 6)\n",
            "第1候補 期待値:196.62958554613058, 選択:(6, 6, 6)\n",
            "第2候補 期待値:194.7149873522679, 選択:(5, 6, 6, 6)\n",
            "第3候補 期待値:194.03074511361396, 選択:(2, 6, 6, 6)\n",
            "(2, 2, 6, 6, 6)\n",
            "第1候補 期待値:191.6468376376686, 選択:(6, 6, 6)\n",
            "第2候補 期待値:189.7522910695923, 選択:(2, 2, 6, 6, 6)\n",
            "第3候補 期待値:188.45281533320085, 選択:(2, 6, 6, 6)\n",
            "(4, 6, 6, 6, 6)\n",
            "第1候補 期待値:202.80534829404795, 選択:シックス(6)\n",
            "第2候補 期待値:199.592026352583, 選択:フォーダイス\n",
            "第3候補 期待値:182.07637624666305, 選択:チョイス\n",
            "現在の得点:30, ボーナスまで:33, 役状況:000000100010\n",
            "\n",
            "(3, 3, 5, 5, 6)\n",
            "第1候補 期待値:202.79076687753326, 選択:(5, 5)\n",
            "第2候補 期待値:202.07340987801223, 選択:(5, 5, 6)\n",
            "第3候補 期待値:201.3025455688802, 選択:(3, 5, 5)\n",
            "(2, 3, 5, 5, 5)\n",
            "第1候補 期待値:206.2648833389815, 選択:(5, 5, 5)\n",
            "第2候補 期待値:204.26020068028333, 選択:(3, 5, 5, 5)\n",
            "第3候補 期待値:203.92686734695, 選択:(2, 5, 5, 5)\n",
            "(4, 5, 5, 5, 5)\n",
            "第1候補 期待値:211.06147223951163, 選択:ファイブ(5)\n",
            "第2候補 期待値:209.6353319799813, 選択:フォーダイス\n",
            "第3候補 期待値:194.5075079005484, 選択:チョイス\n",
            "現在の得点:50, ボーナスまで:13, 役状況:000000110010\n",
            "\n",
            "(1, 3, 4, 5, 6)\n",
            "第1候補 期待値:210.38241518692544, 選択:(3, 4, 5, 6)\n",
            "第2候補 期待値:209.7162979339235, 選択:(3, 4, 5)\n",
            "第3候補 期待値:209.1724529192292, 選択:(1, 3, 4, 5)\n",
            "(2, 3, 4, 5, 6)\n",
            "第1候補 期待値:218.73700251265512, 選択:(2, 3, 4, 5, 6)\n",
            "第2候補 期待値:210.71659867995461, 選択:(2, 3, 4, 5)\n",
            "第3候補 期待値:208.7114977217795, 選択:(3, 4, 5, 6)\n",
            "(2, 3, 4, 5, 6)\n",
            "第1候補 期待値:218.73700251265512, 選択:B.ストレート\n",
            "第2候補 期待値:206.70639676360437, 選択:S.ストレート\n",
            "第3候補 期待値:201.2012786925476, 選択:エース(1)\n",
            "現在の得点:80, ボーナスまで:13, 役状況:010000110010\n",
            "\n",
            "(1, 2, 2, 4, 4)\n",
            "第1候補 期待値:218.31023760893737, 選択:(4, 4)\n",
            "第2候補 期待値:217.11703538419187, 選択:(2, 4, 4)\n",
            "第3候補 期待値:217.04524579055297, 選択:(1, 4, 4)\n",
            "(3, 4, 4, 5, 6)\n",
            "第1候補 期待値:216.7731357425457, 選択:(3, 4, 5, 6)\n",
            "第2候補 期待値:216.77313574254566, 選択:(3, 4, 4, 5, 6)\n",
            "第3候補 期待値:215.41593300652977, 選択:(4, 4)\n",
            "(3, 4, 4, 5, 6)\n",
            "第1候補 期待値:216.77313574254566, 選択:S.ストレート\n",
            "第2候補 期待値:212.04919430242, 選択:フォー(4)\n",
            "第3候補 期待値:211.03817358326813, 選択:チョイス\n",
            "現在の得点:95, ボーナスまで:13, 役状況:011000110010\n",
            "\n",
            "(1, 2, 4, 5, 6)\n",
            "第1候補 期待値:214.2029666926307, 選択:(6,)\n",
            "第2候補 期待値:214.09209295184053, 選択:(4, 6)\n",
            "第3候補 期待値:214.00205218146928, 選択:(4,)\n",
            "(2, 2, 4, 6, 6)\n",
            "第1候補 期待値:212.8328791603927, 選択:(6, 6)\n",
            "第2候補 期待値:212.21893602308154, 選択:(4, 6, 6)\n",
            "第3候補 期待値:211.74608220991854, 選択:(2, 2, 6, 6)\n",
            "(1, 5, 5, 6, 6)\n",
            "第1候補 期待値:210.19274174822758, 選択:チョイス\n",
            "第2候補 期待値:209.07193036942382, 選択:エース(1)\n",
            "第3候補 期待値:205.02858674117965, 選択:ヨット\n",
            "現在の得点:118, ボーナスまで:13, 役状況:011001110010\n",
            "\n",
            "(2, 2, 3, 6, 6)\n",
            "第1候補 期待値:209.80979114686622, 選択:(6, 6)\n",
            "第2候補 期待値:208.60506564481796, 選択:(3, 6, 6)\n",
            "第3候補 期待値:207.8430281523414, 選択:(2, 2, 6, 6)\n",
            "(1, 2, 3, 6, 6)\n",
            "第1候補 期待値:204.81299328210974, 選択:(6, 6)\n",
            "第2候補 期待値:204.3087816170385, 選択:(3,)\n",
            "第3候補 期待値:204.13771588996786, 選択:(1, 3)\n",
            "(2, 4, 4, 6, 6)\n",
            "第1候補 期待値:204.07996807044333, 選択:フォー(4)\n",
            "第2候補 期待値:200.7682500231222, 選択:エース(1)\n",
            "第3候補 期待値:198.85752279219744, 選択:ヨット\n",
            "現在の得点:126, ボーナスまで:5, 役状況:011001111010\n",
            "\n",
            "(1, 4, 4, 5, 6)\n",
            "第1候補 期待値:201.91760384607772, 選択:(4, 4)\n",
            "第2候補 期待値:201.4691161147172, 選択:(4, 4, 6)\n",
            "第3候補 期待値:201.1126346332357, 選択:(4, 4, 5)\n",
            "(2, 4, 4, 6, 6)\n",
            "第1候補 期待値:200.89057943500183, 選択:(4, 4, 6, 6)\n",
            "第2候補 期待値:198.70452063876303, 選択:(6, 6)\n",
            "第3候補 期待値:197.75537396389504, 選択:(4, 4)\n",
            "(4, 4, 6, 6, 6)\n",
            "第1候補 期待値:214.04826800172924, 選択:フルハウス\n",
            "第2候補 期待値:194.56173515163812, 選択:エース(1)\n",
            "第3候補 期待値:193.56762422315376, 選択:ヨット\n",
            "現在の得点:152, ボーナスまで:5, 役状況:011101111010\n",
            "\n",
            "(1, 4, 5, 5, 6)\n",
            "第1候補 期待値:212.40581695675348, 選択:(5, 5)\n",
            "第2候補 期待値:211.41655642195127, 選択:(1, 5, 5)\n",
            "第3候補 期待値:211.1894898371082, 選択:(1,)\n",
            "(2, 3, 5, 5, 6)\n",
            "第1候補 期待値:209.4856172705768, 選択:(3,)\n",
            "第2候補 期待値:208.71596823996606, 選択:(3, 6)\n",
            "第3候補 期待値:208.6928200918179, 選択:(3, 5)\n",
            "(1, 2, 2, 3, 4)\n",
            "第1候補 期待値:206.77345972629706, 選択:エース(1)\n",
            "第2候補 期待値:205.1339082565564, 選択:ヨット\n",
            "第3候補 期待値:203.72950200575482, 選択:トレイ(3)\n",
            "現在の得点:153, ボーナスまで:4, 役状況:011101111011\n",
            "\n",
            "(1, 2, 4, 5, 6)\n",
            "第1候補 期待値:202.89831023318607, 選択:()\n",
            "第2候補 期待値:202.74765420797917, 選択:(6,)\n",
            "第3候補 期待値:202.56969210235502, 選択:(5,)\n",
            "(2, 3, 3, 4, 5)\n",
            "第1候補 期待値:207.35685861960346, 選択:(3, 3)\n",
            "第2候補 期待値:206.6957009261362, 選択:(3, 3, 5)\n",
            "第3候補 期待値:206.6957009261362, 選択:(3, 3, 4)\n",
            "(2, 2, 3, 3, 3)\n",
            "第1候補 期待値:208.69570092613617, 選択:トレイ(3)\n",
            "第2候補 期待値:197.01617102060962, 選択:ヨット\n",
            "第3候補 期待値:194.52556482429006, 選択:フォーダイス\n",
            "現在の得点:197, ボーナスまで:0, 役状況:011101111111\n",
            "\n",
            "(1, 4, 4, 5, 6)\n",
            "第1候補 期待値:207.3010475689853, 選択:(4, 4)\n",
            "第2候補 期待値:206.0877555107916, 選択:(4, 4, 6)\n",
            "第3候補 期待値:206.0071227947422, 選択:(4, 4, 5)\n",
            "(1, 4, 4, 6, 6)\n",
            "第1候補 期待値:204.48789551322415, 選択:(6, 6)\n",
            "第2候補 期待値:203.96011773544637, 選択:(4, 4)\n",
            "第3候補 期待値:203.29710144707826, 選択:(4, 6, 6)\n",
            "(1, 2, 5, 6, 6)\n",
            "第1候補 期待値:202.61126342767236, 選択:ヨット\n",
            "第2候補 期待値:199.30143212628494, 選択:フォーダイス\n",
            "現在の得点:197, ボーナスまで:0, 役状況:111101111111\n",
            "\n",
            "(2, 2, 3, 4, 6)\n",
            "第1候補 期待値:200.034079218107, 選択:(6,)\n",
            "第2候補 期待値:199.92142489711935, 選択:(2, 2)\n",
            "第3候補 期待値:199.53742283950618, 選択:(4, 6)\n",
            "(1, 2, 5, 5, 6)\n",
            "第1候補 期待値:198.72685185185185, 選択:(5, 5)\n",
            "第2候補 期待値:197.72222222222223, 選択:(5, 5, 6)\n",
            "第3候補 期待値:197.61111111111111, 選択:(2, 5, 5)\n",
            "(1, 2, 3, 5, 5)\n",
            "第1候補 期待値:197.0, 選択:フォーダイス\n",
            "現在の得点:197, ボーナスまで:0, 役状況:111111111111\n",
            "\n"
          ]
        }
      ]
    },
    {
      "cell_type": "markdown",
      "source": [
        "# 解析結果の妥当性の評価"
      ],
      "metadata": {
        "id": "bdlNKUdzaJdA"
      }
    },
    {
      "cell_type": "code",
      "source": [
        "n = 100\n",
        "point_list = np.zeros(n)\n",
        "for i in range(n):\n",
        "    current_rank, total, bonus_index = 0, 0, 0\n",
        "    for j in range(rank_len):\n",
        "        hand = tuple(sorted(np.random.randint(1, 7, 5)))\n",
        "        val_list1 = init_val_list(current_rank, bonus_index)\n",
        "        val_list2 = update_val_list(val_list1)\n",
        "        route_list = find_earnest_keep(val_list2, hand)\n",
        "        keep = route_list[0][1]\n",
        "\n",
        "        hand = np.random.randint(1, 7, 5)\n",
        "        for k in range(len(keep)):\n",
        "            hand[k] = keep[k]\n",
        "        hand = tuple(sorted(hand))\n",
        "        route_list = find_earnest_keep(val_list1, hand)\n",
        "        keep = route_list[0][1]\n",
        "\n",
        "        hand = np.random.randint(1, 7, 5)\n",
        "        for k in range(len(keep)):\n",
        "            hand[k] = keep[k]\n",
        "        hand = tuple(sorted(hand))\n",
        "        index = pat_dict[hand]\n",
        "        route_list = find_earnest_rank(current_rank, hand, bonus_index)\n",
        "\n",
        "        rank, bonus_add = route_list[0][1:]\n",
        "        current_rank += 1<<rank\n",
        "        total += rank_point_list[index, rank]\n",
        "        if bonus_index+bonus_add >= bonus_point and bonus_index < bonus_point: total += bonus\n",
        "        bonus_index = min(bonus_point, bonus_index+bonus_add)\n",
        "    point_list[i] = total\n",
        "print(point_list)"
      ],
      "metadata": {
        "colab": {
          "base_uri": "https://localhost:8080/"
        },
        "id": "4mw8_kLOAyZE",
        "outputId": "f8c375b0-ede7-46d9-a17f-2864a3800c5f"
      },
      "execution_count": 58,
      "outputs": [
        {
          "output_type": "stream",
          "name": "stdout",
          "text": [
            "[240. 170. 116. 240. 119. 135. 146. 189. 241. 202. 260. 167. 183. 186.\n",
            " 180. 204. 215. 169. 264. 135. 168. 139. 189. 198. 166. 214. 223. 238.\n",
            " 203. 194. 186. 190. 193. 177. 249. 140. 187. 126. 198. 250. 132. 173.\n",
            " 114. 216. 215. 174. 192. 168. 196. 185. 242. 211. 181. 199. 186. 146.\n",
            " 214. 199. 182. 241. 215. 190. 213. 152. 205. 262. 201. 195. 262. 141.\n",
            " 166. 213. 237. 210. 271. 242. 172. 162. 158. 197. 223. 199. 171. 160.\n",
            " 150. 152. 228. 138. 264. 179. 161. 189. 126. 193. 142. 213. 226. 216.\n",
            " 241. 182.]\n"
          ]
        }
      ]
    },
    {
      "cell_type": "code",
      "source": [
        "interval = 10\n",
        "x = np.arange(min(point_list), max(point_list), interval)\n",
        "count_list = []\n",
        "for i in x:\n",
        "    count_list.append(np.count_nonzero((i <= point_list) & (point_list < i+interval)))\n",
        "plt.bar(x+interval/2, count_list, width=interval)\n",
        "point_list.sort()\n",
        "ave = sum(point_list)/len(point_list)\n",
        "\n",
        "print(\"min:{0}, max:{1}\".format(point_list[0], point_list[-1]))\n",
        "print(\"25%:{0}, 50%:{1}, 75%:{2}\".format(point_list[n//4], point_list[n//2], point_list[n*3//4]))\n",
        "print(\"期待値(実測値):\", ave)\n",
        "print(\"期待値(理論値):\", data_list[0][0])"
      ],
      "metadata": {
        "colab": {
          "base_uri": "https://localhost:8080/",
          "height": 336
        },
        "id": "2G89jeZoJ7WY",
        "outputId": "d3cb23bd-e8f9-4678-8843-2f929962f065"
      },
      "execution_count": 59,
      "outputs": [
        {
          "output_type": "stream",
          "name": "stdout",
          "text": [
            "min:114.0, max:271.0\n",
            "25%:168.0, 50%:192.0, 75%:215.0\n",
            "期待値(実測値): 191.72\n",
            "期待値(理論値): 191.76087975216527\n"
          ]
        },
        {
          "output_type": "display_data",
          "data": {
            "text/plain": [
              "<Figure size 432x288 with 1 Axes>"
            ],
            "image/png": "[encoded data removed]"
          },
          "metadata": {
            "needs_background": "light"
          }
        }
      ]
    }
  ]
}