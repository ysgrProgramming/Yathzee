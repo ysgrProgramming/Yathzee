{
  "nbformat": 4,
  "nbformat_minor": 0,
  "metadata": {
    "colab": {
      "name": "Yahtzee.ipynb",
      "provenance": [],
      "collapsed_sections": [
        "jW0WogpA3s6G"
      ],
      "authorship_tag": "ABX9TyMV/pSGD22UPxzqJ6vfBMiN",
      "include_colab_link": true
    },
    "kernelspec": {
      "name": "python3",
      "display_name": "Python 3"
    },
    "language_info": {
      "name": "python"
    }
  },
  "cells": [
    {
      "cell_type": "markdown",
      "metadata": {
        "id": "view-in-github",
        "colab_type": "text"
      },
      "source": [
        "<a href=\"https://colab.research.google.com/github/ysgrProgramming/Yathzee/blob/main/Yahtzee.ipynb\" target=\"_parent\"><img src=\"https://colab.research.google.com/assets/colab-badge.svg\" alt=\"Open In Colab\"/></a>"
      ]
    },
    {
      "cell_type": "markdown",
      "source": [
        "# ボードゲーム「ヨット」の解析\n",
        "\n",
        "海外ではYahtzeeと呼ばれる、5つのサイコロを使ったゲームの最大期待値手順解析を行いました。\n",
        "\n",
        "解析の手順と結果の考察、実際にプレイした結果についてまとめました。\n",
        "\n",
        "ここではNintendo Switch用ソフト「世界のアソビ大全」に収録されているヨットのルールを採用しています。"
      ],
      "metadata": {
        "id": "qwZGzLRB3vpb"
      }
    },
    {
      "cell_type": "markdown",
      "source": [
        "# 解析道具の構築"
      ],
      "metadata": {
        "id": "jW0WogpA3s6G"
      }
    },
    {
      "cell_type": "markdown",
      "source": [
        "## ライブラリのインポート\n",
        "\n",
        "使いそうなライブラリを先にインポートしておく。"
      ],
      "metadata": {
        "id": "PTBj6eHG3dAr"
      }
    },
    {
      "cell_type": "code",
      "execution_count": 1,
      "metadata": {
        "id": "cHVH6MFUJ6Is"
      },
      "outputs": [],
      "source": [
        "import numpy as np\n",
        "import matplotlib.pyplot as plt"
      ]
    },
    {
      "cell_type": "markdown",
      "source": [
        "## 役の定義\n",
        "\n",
        "ルールが地域差等によって一定でないので、実際の役をより一般化して定義している。\n",
        "\n",
        "handは昇順または降順でソートされていることが期待される。\n",
        "\n",
        "`rank_list`として、「世界のアソビ大全」収録のヨットのルールに基づいた役のリストを作成した。"
      ],
      "metadata": {
        "id": "gwd-IWWbjDvO"
      }
    },
    {
      "cell_type": "code",
      "source": [
        "#一般化した役関数の定義\n",
        "def rank_num(hand, num):\n",
        "    return hand.count(num)*num\n",
        "\n",
        "def rank_num_of_kind(hand, num, point=None):\n",
        "    count, buf = 0, -1\n",
        "    for i in hand:\n",
        "        if buf == i:\n",
        "            count += 1\n",
        "            if count == num: break\n",
        "        else:\n",
        "            count = 1\n",
        "            buf = i\n",
        "    else: return 0\n",
        "\n",
        "    if point: return point\n",
        "    else: return sum(hand)\n",
        "\n",
        "def rank_full_house(hand, point=None):\n",
        "    if hand[0] == hand[1] and hand[3] == hand[4] and hand[0] != hand[4]:\n",
        "        if hand[2] == hand[0] or hand[2] == hand[4]:\n",
        "            if point: return point\n",
        "            else: return sum(hand)\n",
        "    return 0\n",
        "\n",
        "def rank_straight(hand, num, point=None):\n",
        "    count, buf = 0, -1\n",
        "    for i in hand:\n",
        "        if i == buf+1:\n",
        "            count += 1\n",
        "            if count == num: break\n",
        "        elif i == buf: continue\n",
        "        else: count = 1\n",
        "        buf = i\n",
        "    else: return 0\n",
        "\n",
        "    if point: return point\n",
        "    else: return sum(hand)\n",
        "\n",
        "def rank_chance(hand):\n",
        "    return sum(hand)\n",
        "\n",
        "# 役リストの作成\n",
        "rank_list = []\n",
        "rank_list.append(lambda hand: rank_num(hand, 1))\n",
        "rank_list.append(lambda hand: rank_num(hand, 2))\n",
        "rank_list.append(lambda hand: rank_num(hand, 3))\n",
        "rank_list.append(lambda hand: rank_num(hand, 4))\n",
        "rank_list.append(lambda hand: rank_num(hand, 5))\n",
        "rank_list.append(lambda hand: rank_num(hand, 6))\n",
        "rank_list.append(rank_chance)\n",
        "rank_list.append(lambda hand: rank_num_of_kind(hand, 4))\n",
        "rank_list.append(rank_full_house)\n",
        "rank_list.append(lambda hand: rank_straight(hand, 4, 15))\n",
        "rank_list.append(lambda hand: rank_straight(hand, 5, 30))\n",
        "rank_list.append(lambda hand: rank_num_of_kind(hand, 5, 50))\n",
        "\n",
        "rankname_list = [\"エース(1)\", \"デュース(2)\", \"トレイ(3)\", \"フォー(4)\", \"ファイブ(5)\", \"シックス(6)\", \"チョイス\", \"フォーダイス\", \"フルハウス\", \"S.ストレート\", \"B.ストレート\", \"ヨット\"]\n",
        "\n",
        "sample_pat = (3, 4, 5, 6, 6)\n",
        "print(\"出目:\", sample_pat)\n",
        "for func, name in zip(rank_list, rankname_list):\n",
        "    print(\"役名:{0}, 点数:{1}\".format(name, func(sample_pat)))"
      ],
      "metadata": {
        "id": "b_0Ar0QILdkQ",
        "colab": {
          "base_uri": "https://localhost:8080/"
        },
        "outputId": "63fe6275-6f40-47d0-b03f-03639587fd2b"
      },
      "execution_count": 2,
      "outputs": [
        {
          "output_type": "stream",
          "name": "stdout",
          "text": [
            "出目: (3, 4, 5, 6, 6)\n",
            "役名:エース(1), 点数:0\n",
            "役名:デュース(2), 点数:0\n",
            "役名:トレイ(3), 点数:3\n",
            "役名:フォー(4), 点数:4\n",
            "役名:ファイブ(5), 点数:5\n",
            "役名:シックス(6), 点数:12\n",
            "役名:チョイス, 点数:24\n",
            "役名:フォーダイス, 点数:0\n",
            "役名:フルハウス, 点数:0\n",
            "役名:S.ストレート, 点数:15\n",
            "役名:B.ストレート, 点数:0\n",
            "役名:ヨット, 点数:0\n"
          ]
        }
      ]
    },
    {
      "cell_type": "markdown",
      "source": [
        "## パターンリストの作成\n",
        "n個のサイコロの出目のパターンとその整数確率比を格納するリストを作成する。$6^5$通りを全探索するよりも計算量の改善が見込める。"
      ],
      "metadata": {
        "id": "HStaxTU0qWDd"
      }
    },
    {
      "cell_type": "code",
      "source": [
        "from itertools import product\n",
        "\n",
        "rank_len = len(rank_list)\n",
        "bonus_point, bonus_level = 35, 63\n",
        "data_list = np.array([[-1]*(bonus_level+1) for _ in range(1<<rank_len)], dtype=float)\n",
        "data_list[-1,:] = 0\n",
        "\n",
        "rate_list = [dict() for _ in range(5)]\n",
        "for i in range(5):\n",
        "    rate = 6**(4-i)\n",
        "    for a in product(range(1, 7), repeat=i+1):\n",
        "        key = tuple(sorted(a))\n",
        "        if key in rate_list[i]:\n",
        "            rate_list[i][key] += rate\n",
        "        else: \n",
        "            rate_list[i][key] = rate\n",
        "\n",
        "pat_dict = {k: i for i, k in enumerate(rate_list[-1].keys())}\n",
        "pat_list = np.array([k for k in rate_list[-1].keys()])\n",
        "pat_weight_list = np.array([v for v in rate_list[-1].values()])"
      ],
      "metadata": {
        "id": "El3KHEvpGM_8"
      },
      "execution_count": 3,
      "outputs": []
    },
    {
      "cell_type": "markdown",
      "source": [
        "## パターンの遷移についてのリストを作成する\n",
        "\n",
        "パターンと役の組み合わせによる点数のリスト、`rank_point_list`を作成した。\n",
        "\n",
        "パターンとキープの組み合わせによる遷移先のパターンとその整数確率のリスト、`trans_list`を作成した。整数確率とは、確率に$6^5$をかけて表す。"
      ],
      "metadata": {
        "id": "onaFI3hz-UHc"
      }
    },
    {
      "cell_type": "code",
      "source": [
        "pat_len = len(rate_list[-1])\n",
        "\n",
        "#パターンと役の組み合わせによる点数のリスト\n",
        "rank_point_list = np.zeros((pat_len, rank_len), dtype=int)\n",
        "for i, k in enumerate(rate_list[-1].keys()):\n",
        "    for j in range(rank_len):\n",
        "        rank_point_list[i][j] = rank_list[j](k)\n",
        "\n",
        "#choiceを含むパターンを全て生成\n",
        "def list_pat(choice):\n",
        "    n = len(choice)\n",
        "    for key, weight in rate_list[4-n].items():\n",
        "        key = list(key)\n",
        "        key.extend(choice)\n",
        "        pat = tuple(sorted(key))\n",
        "        yield pat, weight\n",
        "\n",
        "#パターンとキープの組み合わせによる遷移先のパターンとその整数確率のリスト\n",
        "trans_list = [[] for _ in range(pat_len)]\n",
        "weight_list = [[] for _ in range(pat_len)]\n",
        "keep_list = [[] for _ in range(pat_len)]\n",
        "for i, k in enumerate(pat_list):\n",
        "    choice_set = set()\n",
        "    for j in range(1, 1<<5):\n",
        "        trans = []\n",
        "        weight = []\n",
        "        choice = []\n",
        "        for l in range(5):\n",
        "            if 1<<l & j: continue\n",
        "            choice.append(k[l])\n",
        "        choice = tuple(choice)\n",
        "        if choice in choice_set: continue\n",
        "        choice_set.add(choice)\n",
        "        for pat, w in list_pat(choice):\n",
        "            trans.append(pat_dict[pat])\n",
        "            weight.append(w)\n",
        "        trans_list[i].append(np.array(trans, dtype=int))\n",
        "        weight_list[i].append(np.array(weight, dtype=int))\n",
        "        keep_list[i].append(choice)"
      ],
      "metadata": {
        "id": "erNTanJ31DS1"
      },
      "execution_count": 4,
      "outputs": []
    },
    {
      "cell_type": "code",
      "source": [
        "#出目確定時の期待値\n",
        "def init_val_list(bit_set, bonus_index):\n",
        "    val_list = np.zeros(pat_len, dtype=float)\n",
        "    available_list = []\n",
        "    for i in range(rank_len):\n",
        "        if bit_set & 1<<i == 0: available_list.append(i)\n",
        "\n",
        "    for i in range(pat_len):\n",
        "        for j in available_list:\n",
        "            bonus_add = 0\n",
        "            if j < 6: bonus_add = rank_point_list[i][j]\n",
        "            if bonus_index+bonus_add >= bonus_level and bonus_index < bonus_level:\n",
        "                val = rank_point_list[i,j] + bonus_point + data_list[bit_set+(1<<j)][-1]\n",
        "            else: \n",
        "                val = rank_point_list[i,j] + data_list[bit_set+(1<<j)][min(bonus_level, bonus_index+bonus_add)]\n",
        "            val_list[i] = max(val_list[i], val)\n",
        "    \n",
        "    return val_list\n",
        "\n",
        "#振数残存時の期待値\n",
        "def update_val_list(val_list):\n",
        "    new_val_list = np.copy(val_list)\n",
        "    for i in range(pat_len):\n",
        "        for trans, weight in zip(trans_list[i], weight_list[i]):\n",
        "            val = sum(val_list[trans]*weight) / 6**5\n",
        "            new_val_list[i] = max(val, new_val_list[i])\n",
        "    return new_val_list"
      ],
      "metadata": {
        "id": "Uu5yuOUSPaty"
      },
      "execution_count": 5,
      "outputs": []
    },
    {
      "cell_type": "code",
      "source": [
        "def find_earnest_keep(val_list, hand):\n",
        "    index = pat_dict[hand]\n",
        "    route_list = [(val_list[index], hand)]\n",
        "    for trans, weight, keep in zip(trans_list[index], weight_list[index], keep_list[index]):\n",
        "        val = sum(val_list[trans]*weight) / 6**5\n",
        "        route_list.append((val, keep))\n",
        "    route_list.sort(reverse=True)\n",
        "    return route_list\n",
        "\n",
        "def find_earnest_rank(current_rank, hand, bonus_index):\n",
        "    index = pat_dict[hand]\n",
        "    route_list = []\n",
        "    for i in range(rank_len):\n",
        "        if current_rank & 1<<i: continue\n",
        "        bonus_add = 0\n",
        "        if i < 6: bonus_add = rank_point_list[index, i]\n",
        "        if bonus_index+bonus_add >= bonus_level and bonus_index < bonus_level:\n",
        "            val = rank_point_list[index, i] + bonus_point + data_list[current_rank+(1<<i)][-1]\n",
        "        else: \n",
        "            val = rank_point_list[index, i] + data_list[current_rank+(1<<i)][min(bonus_level, bonus_index+bonus_add)]\n",
        "        route_list.append((val, i, bonus_add))\n",
        "    route_list.sort(reverse=True)\n",
        "    return route_list"
      ],
      "metadata": {
        "id": "RsBjntG1a4_W"
      },
      "execution_count": 6,
      "outputs": []
    },
    {
      "cell_type": "markdown",
      "source": [
        "# 解析\n",
        "\n",
        "解析道具を構築した後、解析を行った。解析には約5時間を要するので、Google Colabのランタイムの切断による作業データの消失を防ぐため、$2^8$ステップ毎に`data_list`を保存することにした。作業の再開には保存したデータを`np.load`で読み込み、ファイルに書いてある数字を`pause`に設定することでその場所から再開できる。"
      ],
      "metadata": {
        "id": "Id1CGDb4XIMi"
      }
    },
    {
      "cell_type": "code",
      "source": [
        "pause = (1<<rank_len)-2\n",
        "for i in range(pause, -1, -1):\n",
        "    bonus_limit = 0\n",
        "    for j in range(6):\n",
        "        if i & 1<<j == 0: bonus_limit += (j+1)*5\n",
        "    \n",
        "    for j in range(max(0, bonus_level-bonus_limit), bonus_level+1):\n",
        "        val_list = init_val_list(i, j)\n",
        "        for k in range(2):\n",
        "            val_list = update_val_list(val_list)\n",
        "\n",
        "        total = sum(val_list*pat_weight_list) / 6**5\n",
        "        data_list[i][j] = total\n",
        "\n",
        "    for j in range(bonus_level-bonus_limit):\n",
        "        data_list[i][j] = data_list[i][-1]\n",
        "\n",
        "    print(bin(i)[2:])\n",
        "    print(data_list[i])\n",
        "    print()\n",
        "    if i % (1<<8) == 0: np.save(\"{0}\".format(i), data_list)"
      ],
      "metadata": {
        "id": "RT8f-DQl643P"
      },
      "execution_count": 6,
      "outputs": []
    },
    {
      "cell_type": "markdown",
      "source": [
        "# プレイ\n",
        "\n",
        "解析データを使って、実際のゲームプレイ例を生成するサンプルを作成した。解析後のデータはGithub上に保存してある。"
      ],
      "metadata": {
        "id": "Kgcg_W1XW8tL"
      }
    },
    {
      "cell_type": "code",
      "source": [
        "data_list = np.load(\"yahtzee_data_list.npy\")"
      ],
      "metadata": {
        "id": "zVgSHqKKbFuf"
      },
      "execution_count": 7,
      "outputs": []
    },
    {
      "cell_type": "code",
      "source": [
        "current_rank = 0\n",
        "total = 0\n",
        "bonus_index = 0\n",
        "\n",
        "def make_hand(keep):\n",
        "    hand = np.random.randint(1, 7, 5)\n",
        "    for k in range(len(keep)):\n",
        "        hand[k] = keep[k]\n",
        "    hand = tuple(sorted(hand))\n",
        "    print(hand)\n",
        "    return hand\n",
        "\n",
        "for i in range(rank_len):\n",
        "    #一手目\n",
        "    #hand = tuple(sorted(map(int, input().split())))\n",
        "    hand = make_hand([])\n",
        "    val_list = init_val_list(current_rank, bonus_index)\n",
        "    val_list = update_val_list(val_list)\n",
        "    route_list = find_earnest_keep(val_list, hand)\n",
        "    for i in range(min(3, len(route_list))):\n",
        "        print(\"第{0}候補 期待値:{1}, 選択:{2}\".format(i+1, route_list[i][0]+total, route_list[i][1]))\n",
        "\n",
        "    #二手目\n",
        "    #hand = tuple(sorted(map(int, input().split())))\n",
        "    hand = make_hand(route_list[0][1])\n",
        "    index = pat_dict[hand]\n",
        "    val_list = init_val_list(current_rank, bonus_index)\n",
        "    route_list = find_earnest_keep(val_list, hand)\n",
        "    for i in range(min(3, len(route_list))):\n",
        "        print(\"第{0}候補 期待値:{1}, 選択:{2}\".format(i+1, route_list[i][0]+total, route_list[i][1]))\n",
        "\n",
        "    #三手目\n",
        "    #hand = tuple(sorted(map(int, input().split())))\n",
        "    hand = make_hand(route_list[0][1])\n",
        "    index = pat_dict[hand]\n",
        "    route_list = find_earnest_rank(current_rank, hand, bonus_index)\n",
        "    for i in range(min(3, len(route_list))):\n",
        "        print(\"第{0}候補 期待値:{1}, 選択:{2}\".format(i+1, route_list[i][0]+total, rankname_list[route_list[i][1]]))\n",
        "\n",
        "    choiced_rank, bonus_add = route_list[0][1:]\n",
        "    current_rank += 1<<choiced_rank\n",
        "    total += rank_point_list[index, choiced_rank]\n",
        "    if bonus_index+bonus_add >= bonus_level and bonus_index < bonus_level: total += bonus_point\n",
        "    bonus_index = min(bonus_level, bonus_index+bonus_add)\n",
        "\n",
        "    print(\"現在の得点:{0}, ボーナスまで:{1}, 役状況:{2}\".format(total, bonus_level-bonus_index, bin(current_rank)[2:].zfill(rank_len)))\n",
        "    print()"
      ],
      "metadata": {
        "colab": {
          "base_uri": "https://localhost:8080/"
        },
        "id": "OI32S2rPU1iW",
        "outputId": "ba435022-0ec3-4ef7-eb8d-23ad11a13ccf"
      },
      "execution_count": 8,
      "outputs": [
        {
          "output_type": "stream",
          "name": "stdout",
          "text": [
            "(1, 1, 4, 6, 6)\n",
            "第1候補 期待値:191.78712657351343, 選択:(6, 6)\n",
            "第2候補 期待値:190.12939146059352, 選択:(4, 6, 6)\n",
            "第3候補 期待値:189.67736745290577, 選択:(1, 6, 6)\n",
            "(2, 2, 5, 6, 6)\n",
            "第1候補 期待値:186.37335697040936, 選択:(6, 6)\n",
            "第2候補 期待値:185.5800234369072, 選択:(5, 6, 6)\n",
            "第3候補 期待値:184.75582563604303, 選択:(2, 2)\n",
            "(2, 4, 6, 6, 6)\n",
            "第1候補 期待値:188.5846526307905, 選択:シックス(6)\n",
            "第2候補 期待値:182.63876414601035, 選択:チョイス\n",
            "第3候補 期待値:176.29234285786612, 選択:エース(1)\n",
            "現在の得点:18, ボーナスまで:45, 役状況:000000100000\n",
            "\n",
            "(1, 2, 2, 6, 6)\n",
            "第1候補 期待値:186.23284005224738, 選択:(6, 6)\n",
            "第2候補 期待値:185.4773953551066, 選択:(2, 2)\n",
            "第3候補 期待値:184.39936242767487, 選択:()\n",
            "(1, 5, 6, 6, 6)\n",
            "第1候補 期待値:187.78811855441796, 選択:(6, 6, 6)\n",
            "第2候補 期待値:186.83168344037145, 選択:(5, 6, 6, 6)\n",
            "第3候補 期待値:182.83168344037145, 選択:(1, 6, 6, 6)\n",
            "(2, 5, 6, 6, 6)\n",
            "第1候補 期待値:180.35573093266132, 選択:チョイス\n",
            "第2候補 期待値:172.6677534184262, 選択:ヨット\n",
            "第3候補 期待値:172.31934794186498, 選択:エース(1)\n",
            "現在の得点:43, ボーナスまで:45, 役状況:000001100000\n",
            "\n",
            "(1, 2, 2, 5, 5)\n",
            "第1候補 期待値:179.92173012290758, 選択:(5, 5)\n",
            "第2候補 期待値:177.94458061674766, 選択:(2, 5, 5)\n",
            "第3候補 期待値:177.62114988680335, 選択:(1, 5, 5)\n",
            "(1, 2, 2, 5, 5)\n",
            "第1候補 期待値:174.06101600176413, 選択:(5, 5)\n",
            "第2候補 期待値:173.63596641881077, 選択:(2, 2)\n",
            "第3候補 期待値:172.78853351721065, 選択:(2, 2, 5, 5)\n",
            "(2, 3, 5, 5, 5)\n",
            "第1候補 期待値:176.99872446094872, 選択:ファイブ(5)\n",
            "第2候補 期待値:165.05999241579946, 選択:ヨット\n",
            "第3候補 期待値:164.82556659378702, 選択:エース(1)\n",
            "現在の得点:58, ボーナスまで:30, 役状況:000001110000\n",
            "\n",
            "(1, 2, 3, 5, 6)\n",
            "第1候補 期待値:173.22930353208216, 選択:(3,)\n",
            "第2候補 期待値:173.06793472623164, 選択:(2, 3)\n",
            "第3候補 期待値:173.0189006610048, 選択:(2, 3, 5)\n",
            "(2, 3, 3, 5, 6)\n",
            "第1候補 期待値:170.28376578621015, 選択:(3, 3)\n",
            "第2候補 期待値:168.42035411366595, 選択:(2, 3, 3)\n",
            "第3候補 期待値:168.40328077141183, 選択:(3, 3, 5)\n",
            "(1, 3, 3, 3, 6)\n",
            "第1候補 期待値:174.17310942364014, 選択:トレイ(3)\n",
            "第2候補 期待値:163.6881530341687, 選択:エース(1)\n",
            "第3候補 期待値:162.10420480582815, 選択:ヨット\n",
            "現在の得点:67, ボーナスまで:21, 役状況:000001110100\n",
            "\n",
            "(1, 2, 4, 5, 6)\n",
            "第1候補 期待値:171.058808487071, 選択:(4,)\n",
            "第2候補 期待値:170.87055040511763, 選択:(2, 4)\n",
            "第3候補 期待値:170.62779319943388, 選択:(2, 4, 5)\n",
            "(3, 4, 4, 4, 6)\n",
            "第1候補 期待値:179.8259221588793, 選択:(4, 4, 4)\n",
            "第2候補 期待値:177.23564629796027, 選択:(4, 4, 4, 6)\n",
            "第3候補 期待値:176.23564629796027, 選択:(3, 4, 4, 4)\n",
            "(3, 4, 4, 4, 4)\n",
            "第1候補 期待値:194.3039596914263, 選択:フォー(4)\n",
            "第2候補 期待値:176.7434866028678, 選択:フォーダイス\n",
            "第3候補 期待値:159.58794335335955, 選択:ヨット\n",
            "現在の得点:83, ボーナスまで:5, 役状況:000001111100\n",
            "\n",
            "(1, 1, 3, 4, 6)\n",
            "第1候補 期待値:191.40673491869165, 選択:(3, 4)\n",
            "第2候補 期待値:191.12458331586015, 選択:(4,)\n",
            "第3候補 期待値:190.9766264087002, 選択:()\n",
            "(1, 3, 4, 4, 5)\n",
            "第1候補 期待値:189.26289311149407, 選択:(1, 3, 4, 5)\n",
            "第2候補 期待値:188.5424340906984, 選択:(3, 4, 5)\n",
            "第3候補 期待値:188.11211056532463, 選択:(1, 3, 4)\n",
            "(1, 1, 3, 4, 5)\n",
            "第1候補 期待値:186.17006312146418, 選択:エース(1)\n",
            "第2候補 期待値:181.27097596032044, 選択:ヨット\n",
            "第3候補 期待値:178.2335313172997, 選択:フォーダイス\n",
            "現在の得点:85, ボーナスまで:3, 役状況:000001111101\n",
            "\n",
            "(1, 1, 2, 5, 5)\n",
            "第1候補 期待値:183.68332388254453, 選択:(5, 5)\n",
            "第2候補 期待値:183.4616173266695, 選択:(2,)\n",
            "第3候補 期待値:183.31767903148574, 選択:(2, 5)\n",
            "(3, 4, 5, 5, 6)\n",
            "第1候補 期待値:184.48727322580436, 選択:(3, 4, 5, 6)\n",
            "第2候補 期待値:182.01947634621166, 選択:(3, 4, 5, 5, 6)\n",
            "第3候補 期待値:179.78560474942418, 選択:(3, 4, 5)\n",
            "(2, 3, 4, 5, 6)\n",
            "第1候補 期待値:196.82625762376784, 選択:B.ストレート\n",
            "第2候補 期待値:182.01947634621166, 選択:S.ストレート\n",
            "第3候補 期待値:173.29156993405076, 選択:ヨット\n",
            "現在の得点:115, ボーナスまで:3, 役状況:010001111101\n",
            "\n",
            "(1, 2, 3, 4, 5)\n",
            "第1候補 期待値:195.90111851999592, 選択:(2, 3, 4, 5)\n",
            "第2候補 期待値:195.90111851999592, 選択:(1, 2, 3, 4, 5)\n",
            "第3候補 期待値:195.90111851999592, 選択:(1, 2, 3, 4)\n",
            "(2, 3, 4, 5, 6)\n",
            "第1候補 期待値:195.90111851999592, 選択:(3, 4, 5, 6)\n",
            "第2候補 期待値:195.90111851999592, 選択:(2, 3, 4, 5, 6)\n",
            "第3候補 期待値:195.90111851999592, 選択:(2, 3, 4, 5)\n",
            "(3, 4, 4, 5, 6)\n",
            "第1候補 期待値:195.90111851999592, 選択:S.ストレート\n",
            "第2候補 期待値:185.13805402725234, 選択:ヨット\n",
            "第3候補 期待値:182.4584281196837, 選択:フォーダイス\n",
            "現在の得点:130, ボーナスまで:3, 役状況:011001111101\n",
            "\n",
            "(2, 4, 4, 5, 6)\n",
            "第1候補 期待値:193.5438637480063, 選択:(2,)\n",
            "第2候補 期待値:193.32447035010043, 選択:(4, 4)\n",
            "第3候補 期待値:193.23288931675987, 選択:(2, 6)\n",
            "(2, 3, 5, 5, 6)\n",
            "第1候補 期待値:189.9981402608579, 選択:(2,)\n",
            "第2候補 期待値:189.10287736990048, 選択:(2, 6)\n",
            "第3候補 期待値:189.01491440693752, 選択:(2, 5)\n",
            "(1, 2, 3, 4, 6)\n",
            "第1候補 期待値:184.8404783653799, 選択:ヨット\n",
            "第2候補 期待値:182.25941213570945, 選択:フォーダイス\n",
            "第3候補 期待値:181.25314937139473, 選択:フルハウス\n",
            "現在の得点:130, ボーナスまで:3, 役状況:111001111101\n",
            "\n",
            "(1, 2, 2, 4, 4)\n",
            "第1候補 期待値:187.18697927352054, 選択:(2, 2)\n",
            "第2候補 期待値:186.835587688177, 選択:(2, 2, 4)\n",
            "第3候補 期待値:186.79790089789998, 選択:(1, 2, 2)\n",
            "(2, 2, 2, 3, 6)\n",
            "第1候補 期待値:187.85223813351246, 選択:(2, 2, 2)\n",
            "第2候補 期待値:187.84931407618228, 選択:(2, 2, 2, 6)\n",
            "第3候補 期待値:187.43703349551095, 選択:(2, 2, 2, 3)\n",
            "(1, 1, 2, 2, 2)\n",
            "第1候補 期待値:187.10370016217757, 選択:デュース(2)\n",
            "第2候補 期待値:179.57738364620567, 選択:フルハウス\n",
            "第3候補 期待値:172.56089737908567, 選択:フォーダイス\n",
            "現在の得点:171, ボーナスまで:0, 役状況:111001111111\n",
            "\n",
            "(1, 2, 4, 4, 4)\n",
            "第1候補 期待値:191.23173756680288, 選択:(4, 4, 4)\n",
            "第2候補 期待値:189.2349397796067, 選択:(2, 4, 4, 4)\n",
            "第3候補 期待値:188.90160644627338, 選択:(1, 4, 4, 4)\n",
            "(4, 4, 4, 4, 5)\n",
            "第1候補 期待値:198.96572650278372, 選択:(4, 4, 4, 4, 5)\n",
            "第2候補 期待値:197.46572650278372, 選択:(4, 4, 4, 4)\n",
            "第3候補 期待値:186.33316218679605, 選択:(4, 4, 4)\n",
            "(4, 4, 4, 4, 5)\n",
            "第1候補 期待値:198.96572650278372, 選択:フォーダイス\n",
            "第2候補 期待値:176.61126342767236, 選択:フルハウス\n",
            "現在の得点:192, ボーナスまで:0, 役状況:111011111111\n",
            "\n",
            "(1, 2, 2, 3, 6)\n",
            "第1候補 期待値:196.86574074074073, 選択:(2, 2, 6)\n",
            "第2候補 期待値:196.2014317558299, 選択:(6,)\n",
            "第3候補 期待値:195.98083847736626, 選択:(2, 2)\n",
            "(2, 2, 2, 4, 6)\n",
            "第1候補 期待値:195.0, 選択:(2, 2, 2, 6)\n",
            "第2候補 期待値:194.33333333333334, 選択:(2, 2, 2, 4)\n",
            "第3候補 期待値:193.88888888888889, 選択:(2, 2, 2)\n",
            "(2, 2, 2, 5, 6)\n",
            "第1候補 期待値:192.0, 選択:フルハウス\n",
            "現在の得点:192, ボーナスまで:0, 役状況:111111111111\n",
            "\n"
          ]
        }
      ]
    },
    {
      "cell_type": "markdown",
      "source": [
        "# 解析結果の妥当性の評価"
      ],
      "metadata": {
        "id": "bdlNKUdzaJdA"
      }
    },
    {
      "cell_type": "code",
      "source": [
        "n = 100\n",
        "point_list = np.zeros(n)\n",
        "for i in range(n):\n",
        "    current_rank, total, bonus_index = 0, 0, 0\n",
        "    for j in range(rank_len):\n",
        "        hand = tuple(sorted(np.random.randint(1, 7, 5)))\n",
        "        val_list1 = init_val_list(current_rank, bonus_index)\n",
        "        val_list2 = update_val_list(val_list1)\n",
        "        route_list = find_earnest_keep(val_list2, hand)\n",
        "        keep = route_list[0][1]\n",
        "\n",
        "        hand = np.random.randint(1, 7, 5)\n",
        "        for k in range(len(keep)):\n",
        "            hand[k] = keep[k]\n",
        "        hand = tuple(sorted(hand))\n",
        "        route_list = find_earnest_keep(val_list1, hand)\n",
        "        keep = route_list[0][1]\n",
        "\n",
        "        hand = np.random.randint(1, 7, 5)\n",
        "        for k in range(len(keep)):\n",
        "            hand[k] = keep[k]\n",
        "        hand = tuple(sorted(hand))\n",
        "        index = pat_dict[hand]\n",
        "        route_list = find_earnest_rank(current_rank, hand, bonus_index)\n",
        "\n",
        "        rank, bonus_add = route_list[0][1:]\n",
        "        current_rank += 1<<rank\n",
        "        total += rank_point_list[index, rank]\n",
        "        if bonus_index+bonus_add >= bonus_level and bonus_index < bonus_level: total += bonus_point\n",
        "        bonus_index = min(bonus_level, bonus_index+bonus_add)\n",
        "    point_list[i] = total\n",
        "print(point_list)"
      ],
      "metadata": {
        "colab": {
          "base_uri": "https://localhost:8080/"
        },
        "id": "4mw8_kLOAyZE",
        "outputId": "b921e83d-beb8-434a-d56f-3c7a0a441851"
      },
      "execution_count": 9,
      "outputs": [
        {
          "output_type": "stream",
          "name": "stdout",
          "text": [
            "[138. 257. 207. 276. 224. 256. 207. 272. 182. 162. 221. 201. 219. 160.\n",
            " 199. 224. 186. 192. 199. 229. 136. 176. 268. 203. 119. 210. 217. 158.\n",
            " 132. 162. 242. 249. 185. 200. 197. 217. 123. 194. 243. 194. 156. 215.\n",
            " 142. 191. 203. 150. 146. 274. 188. 220. 228. 160. 166. 186. 274. 223.\n",
            " 140. 135. 171. 219.  89. 163. 230. 218. 154. 208. 191. 119. 247. 218.\n",
            " 225. 206. 148. 177. 198. 148. 102. 223. 150. 173. 207. 199. 187. 167.\n",
            " 153. 119. 131. 185. 186. 163. 164. 143. 187. 204. 193. 192. 194. 216.\n",
            " 195. 145.]\n"
          ]
        }
      ]
    },
    {
      "cell_type": "code",
      "source": [
        "interval = 10\n",
        "point_list.sort()\n",
        "x = np.arange(point_list[0], point_list[-1], interval)\n",
        "count_list = []\n",
        "for i in x:\n",
        "    count_list.append(np.count_nonzero((i <= point_list) & (point_list < i+interval)))\n",
        "ave = sum(point_list)/len(point_list)\n",
        "\n",
        "plt.bar(x+interval/2, count_list, width=interval)\n",
        "print(\"min:{0}, max:{1}\".format(point_list[0], point_list[-1]))\n",
        "print(\"25%:{0}, 50%:{1}, 75%:{2}\".format(point_list[n//4], point_list[n//2], point_list[n*3//4]))\n",
        "print(\"期待値(実測値):\", ave)\n",
        "print(\"期待値(理論値):\", data_list[0][0])"
      ],
      "metadata": {
        "colab": {
          "base_uri": "https://localhost:8080/",
          "height": 336
        },
        "id": "2G89jeZoJ7WY",
        "outputId": "246a72a1-d653-400a-bd9c-e7378fff583f"
      },
      "execution_count": 10,
      "outputs": [
        {
          "output_type": "stream",
          "name": "stdout",
          "text": [
            "min:89.0, max:276.0\n",
            "25%:160.0, 50%:193.0, 75%:218.0\n",
            "期待値(実測値): 189.4\n",
            "期待値(理論値): 191.76087975216527\n"
          ]
        },
        {
          "output_type": "display_data",
          "data": {
            "text/plain": [
              "<Figure size 432x288 with 1 Axes>"
            ],
            "image/png": "[encoded data removed]"
          },
          "metadata": {
            "needs_background": "light"
          }
        }
      ]
    }
  ]
}